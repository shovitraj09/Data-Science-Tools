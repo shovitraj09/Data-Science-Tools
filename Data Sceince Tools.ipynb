{
 "cells": [
  {
   "cell_type": "markdown",
   "id": "aedab70c",
   "metadata": {},
   "source": [
    "# Tools for Data Science"
   ]
  },
  {
   "cell_type": "markdown",
   "id": "0068a52f",
   "metadata": {},
   "source": [
    "In this notebook, Data Sceince Tools are summarized."
   ]
  },
  {
   "cell_type": "markdown",
   "id": "cb50f455",
   "metadata": {},
   "source": [
    "Some of the popular languages Data Scientist use are:\n",
    "1. Python\n",
    "2. R\n",
    "3. SQL\n",
    "4. Java"
   ]
  },
  {
   "cell_type": "markdown",
   "id": "d9e3b80d",
   "metadata": {},
   "source": [
    "Some of the commonly used libraries used by Data Scientists include:\n",
    "1. Tensorflow\n",
    "2. NumPy\n",
    "3. SciPy\n",
    "4. Pandas\n",
    "5. Matplotlib\n",
    "6. Keras\n",
    "7. Scikit-Learn\n",
    "8. PyTorch "
   ]
  },
  {
   "cell_type": "markdown",
   "id": "9ef4cb68",
   "metadata": {},
   "source": [
    " |Data Science Tools|\n",
    " |---|\n",
    " |SAS|\n",
    " |Apache Hadoop|\n",
    " |TensorFlow|"
   ]
  },
  {
   "cell_type": "markdown",
   "id": "24990a10",
   "metadata": {},
   "source": [
    "### Few examples of arithmetic expression"
   ]
  },
  {
   "cell_type": "code",
   "execution_count": 2,
   "id": "c77dca2d",
   "metadata": {},
   "outputs": [
    {
     "data": {
      "text/plain": [
       "120"
      ]
     },
     "execution_count": 2,
     "metadata": {},
     "output_type": "execute_result"
    }
   ],
   "source": [
    "#this is a common arithmetic expression\n",
    "(20+4)*5"
   ]
  },
  {
   "cell_type": "code",
   "execution_count": 3,
   "id": "ab53bac1",
   "metadata": {},
   "outputs": [
    {
     "data": {
      "text/plain": [
       "2.0"
      ]
     },
     "execution_count": 3,
     "metadata": {},
     "output_type": "execute_result"
    }
   ],
   "source": [
    "#this code will convert 120 minutes to hours\n",
    "120/60"
   ]
  },
  {
   "cell_type": "markdown",
   "id": "ee015c15",
   "metadata": {},
   "source": [
    "__Objective__\n",
    "* List popular languages for Data Science\n",
    "* List popular libraries for Data Science\n",
    "* List of Well known Data Science Tools\n",
    "* How to Provide comments in the cell"
   ]
  },
  {
   "cell_type": "markdown",
   "id": "e5355562",
   "metadata": {},
   "source": [
    "## Author\n",
    "Shovit Raj"
   ]
  }
 ],
 "metadata": {
  "kernelspec": {
   "display_name": "Python 3 (ipykernel)",
   "language": "python",
   "name": "python3"
  },
  "language_info": {
   "codemirror_mode": {
    "name": "ipython",
    "version": 3
   },
   "file_extension": ".py",
   "mimetype": "text/x-python",
   "name": "python",
   "nbconvert_exporter": "python",
   "pygments_lexer": "ipython3",
   "version": "3.11.5"
  }
 },
 "nbformat": 4,
 "nbformat_minor": 5
}
